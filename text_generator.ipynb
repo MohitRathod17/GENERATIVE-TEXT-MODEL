{
 "cells": [
  {
   "cell_type": "markdown",
   "id": "5850412a",
   "metadata": {},
   "source": [
    "### Importing libraries"
   ]
  },
  {
   "cell_type": "code",
   "execution_count": null,
   "id": "a3a4d73f",
   "metadata": {},
   "outputs": [],
   "source": [
    "from transformers import GPT2LMHeadModel, GPT2Tokenizer, DataCollatorForLanguageModeling, Trainer, TrainingArguments\n",
    "from datasets import load_dataset\n",
    "import torch"
   ]
  },
  {
   "cell_type": "markdown",
   "id": "f8d17e8c",
   "metadata": {},
   "source": [
    "### Check GPU"
   ]
  },
  {
   "cell_type": "code",
   "execution_count": null,
   "id": "ef85ccdc",
   "metadata": {},
   "outputs": [],
   "source": [
    "device = torch.device(\"cuda\" if torch.cuda.is_available() else \"cpu\")\n",
    "print(f\"Using device: {device}\")\n"
   ]
  },
  {
   "cell_type": "markdown",
   "id": "41302a59",
   "metadata": {},
   "source": [
    "### Load 50% of WikiText-2"
   ]
  },
  {
   "cell_type": "code",
   "execution_count": null,
   "id": "8304fc69",
   "metadata": {},
   "outputs": [],
   "source": [
    "print(\"Loading WikiText-2...\")\n",
    "dataset = load_dataset(\"wikitext\", \"wikitext-2-raw-v1\", split=\"train[:50%]\")"
   ]
  },
  {
   "cell_type": "markdown",
   "id": "c9281940",
   "metadata": {},
   "source": [
    "### Load GPT-2 tokenizer and model"
   ]
  },
  {
   "cell_type": "code",
   "execution_count": null,
   "id": "55d8a191",
   "metadata": {},
   "outputs": [],
   "source": [
    "\n",
    "model_name = \"gpt2\"\n",
    "tokenizer = GPT2Tokenizer.from_pretrained(model_name)\n",
    "tokenizer.pad_token = tokenizer.eos_token  # Fix pad token error\n",
    "\n",
    "model = GPT2LMHeadModel.from_pretrained(model_name).to(device)"
   ]
  },
  {
   "cell_type": "markdown",
   "id": "3670b687",
   "metadata": {},
   "source": [
    "### Tokenize dataset"
   ]
  },
  {
   "cell_type": "code",
   "execution_count": null,
   "id": "312a0f67",
   "metadata": {},
   "outputs": [],
   "source": [
    "\n",
    "def tokenize_function(examples):\n",
    "    return tokenizer(examples[\"text\"], padding=\"max_length\", truncation=True, max_length=64)\n",
    "\n",
    "print(\"🔄 Tokenizing dataset...\")\n",
    "tokenized_dataset = dataset.map(tokenize_function, batched=True, remove_columns=[\"text\"])"
   ]
  },
  {
   "cell_type": "markdown",
   "id": "9d38af29",
   "metadata": {},
   "source": [
    "### Data collator"
   ]
  },
  {
   "cell_type": "code",
   "execution_count": null,
   "id": "16d193bb",
   "metadata": {},
   "outputs": [],
   "source": [
    "\n",
    "data_collator = DataCollatorForLanguageModeling(tokenizer=tokenizer, mlm=False)"
   ]
  },
  {
   "cell_type": "markdown",
   "id": "676102fd",
   "metadata": {},
   "source": [
    "### Training arguments for GPU"
   ]
  },
  {
   "cell_type": "code",
   "execution_count": null,
   "id": "828f7568",
   "metadata": {},
   "outputs": [],
   "source": [
    "\n",
    "training_args = TrainingArguments(\n",
    "    output_dir=\"./gpt2-finetuned-wikitext2\",\n",
    "    per_device_train_batch_size=8,\n",
    "    num_train_epochs=1,\n",
    "    save_steps=500,\n",
    "    logging_steps=100,\n",
    "    fp16=True, \n",
    "    overwrite_output_dir=True,\n",
    "    report_to=\"none\"\n",
    ")\n"
   ]
  },
  {
   "cell_type": "markdown",
   "id": "ab61f098",
   "metadata": {},
   "source": [
    "### Training model"
   ]
  },
  {
   "cell_type": "code",
   "execution_count": null,
   "id": "592e861b",
   "metadata": {},
   "outputs": [],
   "source": [
    "\n",
    "trainer = Trainer(\n",
    "    model=model,\n",
    "    args=training_args,\n",
    "    train_dataset=tokenized_dataset,\n",
    "    data_collator=data_collator\n",
    ")\n",
    "\n",
    "print(\"Training GPT-2 (1 epoch, 50% WikiText-2, GPU)...\")\n",
    "trainer.train()\n",
    "\n",
    "print(\"Saving model...\")\n",
    "model.save_pretrained(\"./gpt2-finetuned-wikitext2\")\n",
    "tokenizer.save_pretrained(\"./gpt2-finetuned-wikitext2\")\n",
    "\n",
    "\n"
   ]
  },
  {
   "cell_type": "markdown",
   "id": "7e342334",
   "metadata": {},
   "source": [
    "### Taking prompt from the user"
   ]
  },
  {
   "cell_type": "code",
   "execution_count": null,
   "id": "8de0ee76",
   "metadata": {},
   "outputs": [],
   "source": [
    "from transformers import pipeline\n",
    "import torch\n",
    "\n",
    "device = 0 if torch.cuda.is_available() else -1\n",
    "\n",
    "generator = pipeline(\"text-generation\", model=\"./gpt2-finetuned-wikitext2\", tokenizer=\"./gpt2-finetuned-wikitext2\", device=device)\n",
    "\n",
    "while True:\n",
    "    prompt = input(\"Enter your prompt (or type 'exit'): \")\n",
    "    if prompt.strip().lower() == \"exit\":\n",
    "        break\n",
    "    output = generator(prompt, max_length=100, num_return_sequences=1)\n",
    "    print(\"\\n GPT-2 Output:\\n\")\n",
    "    print(output[0]['generated_text'])\n",
    "    print(\"=\" * 80)\n"
   ]
  }
 ],
 "metadata": {
  "kernelspec": {
   "display_name": "Python 3",
   "language": "python",
   "name": "python3"
  },
  "language_info": {
   "codemirror_mode": {
    "name": "ipython",
    "version": 3
   },
   "file_extension": ".py",
   "mimetype": "text/x-python",
   "name": "python",
   "nbconvert_exporter": "python",
   "pygments_lexer": "ipython3",
   "version": "3.11.9"
  }
 },
 "nbformat": 4,
 "nbformat_minor": 5
}
